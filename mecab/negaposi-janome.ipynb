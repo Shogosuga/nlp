{
 "cells": [
  {
   "cell_type": "code",
   "execution_count": 1,
   "metadata": {},
   "outputs": [],
   "source": [
    "import csv\n",
    "import pandas as pd\n",
    "import MeCab\n",
    "import sys"
   ]
  },
  {
   "cell_type": "code",
   "execution_count": 2,
   "metadata": {},
   "outputs": [],
   "source": [
    "meishi = pd.read_csv('meishi.csv')\n",
    "df_meishi = pd.DataFrame(meishi)\n",
    "df_meishi.columns=['number','name','ネガポジ','形態','score']"
   ]
  },
  {
   "cell_type": "code",
   "execution_count": 3,
   "metadata": {},
   "outputs": [
    {
     "name": "stdout",
     "output_type": "stream",
     "text": [
      "       number   name ネガポジ                 形態  score\n",
      "0           0   ２，３日    e     〜である・になる（状態）客観    0.0\n",
      "1           1    10%    e     〜である・になる（状態）客観    0.0\n",
      "2           2   100%    e     〜である・になる（状態）客観    0.0\n",
      "3           3    25%    e     〜である・になる（状態）客観    0.0\n",
      "4           4    80%    e     〜である・になる（状態）客観    0.0\n",
      "5           5   １０カ月    e     〜である・になる（状態）客観    0.0\n",
      "6           6   １０時間    e     〜である・になる（状態）客観    0.0\n",
      "7           7   １０数年    e     〜である・になる（状態）客観    0.0\n",
      "8           8  １０年以上    e     〜である・になる（状態）客観    0.0\n",
      "9           9  １０年近く    e     〜である・になる（状態）客観    0.0\n",
      "10         10   １１ヶ月    e     〜である・になる（状態）客観    0.0\n",
      "11         11    １１年    e     〜である・になる（状態）客観    0.0\n",
      "12         12    １２年    e     〜である・になる（状態）客観    0.0\n",
      "13         13    １３年    e     〜である・になる（状態）客観    0.0\n",
      "14         14    １４年    e     〜である・になる（状態）客観    0.0\n",
      "15         15    １５秒    e     〜である・になる（状態）客観    0.0\n",
      "16         16    １６年    e     〜である・になる（状態）客観    0.0\n",
      "17         17    １７年    e     〜である・になる（状態）客観    0.0\n",
      "18         18    １９年    e     〜である・になる（状態）客観    0.0\n",
      "19         19   １バイト    e     〜である・になる（状態）客観    0.0\n",
      "20         20     １位    p     〜である・になる（状態）客観    1.0\n",
      "21         21     １割    e     〜である・になる（状態）客観    0.0\n",
      "22         22  １時間以上    e     〜である・になる（状態）客観    0.0\n",
      "23         23  １時間以内    e     〜である・になる（状態）客観    0.0\n",
      "24         24   １時間半    e     〜である・になる（状態）客観    0.0\n",
      "25         25  １周年記念    p     〜である・になる（状態）客観    1.0\n",
      "26         26  １週間以上    e     〜である・になる（状態）客観    0.0\n",
      "27         27     １勝    p           〜する（出来事）    1.0\n",
      "28         28     １体    e     〜である・になる（状態）客観    0.0\n",
      "29         29     １通    e     〜である・になる（状態）客観    0.0\n",
      "...       ...    ...  ...                ...    ...\n",
      "13284   13284      躁    n    〜がある・高まる（存在・性質）   -1.0\n",
      "13285   13285     躁病    n     〜である・になる（状態）客観   -1.0\n",
      "13286   13286     躁鬱    n     〜である・になる（状態）客観   -1.0\n",
      "13287   13287    躁鬱病    n     〜である・になる（状態）客観   -1.0\n",
      "13288   13288     躊躇    n            〜する（行為）   -1.0\n",
      "13289   13289      躾    e            〜する（行為）    0.0\n",
      "13290   13290     軋轢    n    〜がある・高まる（存在・性質）   -1.0\n",
      "13291   13291     輻輳    n           〜する（出来事）   -1.0\n",
      "13292   13292     辟易    n           〜する（出来事）   -1.0\n",
      "13293   13293     辣腕    p  〜である・になる（評価・感情）主観    1.0\n",
      "13294   13294     醵金    p          〜する（行為）自分    1.0\n",
      "13295   13295     醵出    e           〜する（出来事）    0.0\n",
      "13296   13296      鉈    e     〜である・になる（状態）客観    0.0\n",
      "13297   13297     錚錚    n  〜である・になる（評価・感情）主観   -1.0\n",
      "13298   13298     閨怨    n    〜がある・高まる（存在・性質）   -1.0\n",
      "13299   13299     隘路    n  〜である・になる（評価・感情）主観   -1.0\n",
      "13300   13300     隕石    e     〜である・になる（状態）客観    0.0\n",
      "13301   13301      靄    e    〜がある・高まる（存在・性質）    0.0\n",
      "13302   13302     頌徳    p          〜する（行為）他人    1.0\n",
      "13303   13303     頽唐    n  〜である・になる（評価・感情）主観   -1.0\n",
      "13304   13304     頽廃    n           〜する（出来事）   -1.0\n",
      "13305   13305     顰蹙    n            〜する（行為）   -1.0\n",
      "13306   13306     騙り    n    〜がある・高まる（存在・性質）   -1.0\n",
      "13307   13307     驍名    p    〜がある・高まる（存在・性質）    1.0\n",
      "13308   13308   髀肉の嘆    n  〜である・になる（評価・感情）主観   -1.0\n",
      "13309   13309      魏    e           〜に行く（場所）    0.0\n",
      "13310   13310   魑魅魍魎    n     〜である・になる（状態）客観   -1.0\n",
      "13311   13311      鮑    e     〜である・になる（状態）客観    0.0\n",
      "13312   13312     鹹味    e  〜である・になる（評価・感情）主観    0.0\n",
      "13313   13313     麒麟    e     〜である・になる（状態）客観    0.0\n",
      "\n",
      "[13314 rows x 5 columns]\n"
     ]
    }
   ],
   "source": [
    "print(df_meishi)"
   ]
  },
  {
   "cell_type": "code",
   "execution_count": 4,
   "metadata": {},
   "outputs": [],
   "source": [
    "yougen = pd.read_csv('yougen.csv')\n",
    "df_yougen = pd.DataFrame(yougen)\n",
    "df_yougen.columns=['number','ネガポジ','name','score']"
   ]
  },
  {
   "cell_type": "code",
   "execution_count": 5,
   "metadata": {},
   "outputs": [
    {
     "name": "stdout",
     "output_type": "stream",
     "text": [
      "      number    ネガポジ              name  score\n",
      "0          0  ネガ（経験）               あがく   -1.0\n",
      "1          1  ネガ（経験）             あきらめる   -1.0\n",
      "2          2  ネガ（経験）               あきる   -1.0\n",
      "3          3  ネガ（経験）              あきれる   -1.0\n",
      "4          4  ネガ（経験）            あきれる た   -1.0\n",
      "5          5  ネガ（経験）               あせる   -1.0\n",
      "6          6  ネガ（経験）              あなどる   -1.0\n",
      "7          7  ネガ（経験）              あやしむ   -1.0\n",
      "8          8  ネガ（経験）              あやぶむ   -1.0\n",
      "9          9  ネガ（経験）              あやまる   -1.0\n",
      "10        10  ネガ（経験）             あらそ う   -1.0\n",
      "11        11  ネガ（経験）              あわてる   -1.0\n",
      "12        12  ネガ（経験）           いたたまれない   -1.0\n",
      "13        13  ネガ（経験）               いたむ   -1.0\n",
      "14        14  ネガ（経験）              いつわる   -1.0\n",
      "15        15  ネガ（経験）            いらだたしい   -1.0\n",
      "16        16  ネガ（経験）              いら立つ   -1.0\n",
      "17        17  ネガ（経験）              うつうつ   -1.0\n",
      "18        18  ネガ（経験）             うなだれる   -1.0\n",
      "19        19  ネガ（経験）               うなる   -1.0\n",
      "20        20  ネガ（経験）               うらむ   -1.0\n",
      "21        21  ネガ（経験）              うんざり   -1.0\n",
      "22        22  ネガ（経験）              おちいる   -1.0\n",
      "23        23  ネガ（経験）              おぼれる   -1.0\n",
      "24        24  ネガ（経験）              かさばる   -1.0\n",
      "25        25  ネガ（経験）            かなう ない   -1.0\n",
      "26        26  ネガ（経験）              かなしむ   -1.0\n",
      "27        27  ネガ（経験）              がたつく   -1.0\n",
      "28        28  ネガ（経験）              がっくり   -1.0\n",
      "29        29  ネガ（経験）               くさる   -1.0\n",
      "...      ...     ...               ...    ...\n",
      "5250    5250  ポジ（評価）               洒落る    1.0\n",
      "5251    5251  ポジ（評価）              瀟洒 だ    1.0\n",
      "5252    5252  ポジ（評価）             瀟洒 です    1.0\n",
      "5253    5253  ポジ（評価）              炯眼 だ    1.0\n",
      "5254    5254  ポジ（評価）             炯眼 です    1.0\n",
      "5255    5255  ポジ（評価）              煌煌 だ    1.0\n",
      "5256    5256  ポジ（評価）             煌煌 です    1.0\n",
      "5257    5257  ポジ（評価）              煌煌 と    1.0\n",
      "5258    5258  ポジ（評価）              煌煌 の    1.0\n",
      "5259    5259  ポジ（評価）              爛漫 だ    1.0\n",
      "5260    5260  ポジ（評価）             爛漫 です    1.0\n",
      "5261    5261  ポジ（評価）              爛漫 と    1.0\n",
      "5262    5262  ポジ（評価）              爛漫 の    1.0\n",
      "5263    5263  ポジ（評価）                甦生    1.0\n",
      "5264    5264  ポジ（評価）  痒い ところ に 手 が とどく    1.0\n",
      "5265    5265  ポジ（評価）             薔薇色 だ    1.0\n",
      "5266    5266  ポジ（評価）            薔薇色 です    1.0\n",
      "5267    5267  ポジ（評価）             薔薇色 と    1.0\n",
      "5268    5268  ポジ（評価）             薔薇色 の    1.0\n",
      "5269    5269  ポジ（評価）               讚える    1.0\n",
      "5270    5270  ポジ（評価）               逞しい    1.0\n",
      "5271    5271  ポジ（評価）                鑽仰    1.0\n",
      "5272    5272  ポジ（評価）              闊達 だ    1.0\n",
      "5273    5273  ポジ（評価）             闊達 です    1.0\n",
      "5274    5274  ポジ（評価）              鞏固 だ    1.0\n",
      "5275    5275  ポジ（評価）             鞏固 です    1.0\n",
      "5276    5276  ポジ（評価）              颯爽 だ    1.0\n",
      "5277    5277  ポジ（評価）             颯爽 です    1.0\n",
      "5278    5278  ポジ（評価）              颯爽 と    1.0\n",
      "5279    5279  ポジ（評価）              颯爽 の    1.0\n",
      "\n",
      "[5280 rows x 4 columns]\n"
     ]
    }
   ],
   "source": [
    "print(df_yougen)"
   ]
  },
  {
   "cell_type": "code",
   "execution_count": 6,
   "metadata": {},
   "outputs": [
    {
     "name": "stdout",
     "output_type": "stream",
     "text": [
      "      0      1     2          3         4     5\n",
      "0    死ぬ     シヌ    死ぬ      動詞-自立     五段・ナ行   基本形\n",
      "1    間際    マギワ    間際      名詞-一般                \n",
      "2     に      ニ     に  助詞-格助詞-一般                \n",
      "3   あがく    アガク   あがく      動詞-自立  五段・カ行イ音便   基本形\n",
      "4     。      。     。      記号-句点                \n",
      "5   美しい  ウツクシイ   美しい     形容詞-自立    形容詞・イ段   基本形\n",
      "6     月     ツキ     月      名詞-一般                \n",
      "7     が      ガ     が  助詞-格助詞-一般                \n",
      "8    見え     ミエ   見える      動詞-自立        一段   連用形\n",
      "9     た      タ     た        助動詞      特殊・タ   基本形\n",
      "10    気      キ     気  名詞-非自立-一般                \n",
      "11    が      ガ     が  助詞-格助詞-一般                \n",
      "12    し      シ    する      動詞-自立     サ変・スル   連用形\n",
      "13    た      タ     た        助動詞      特殊・タ   基本形\n",
      "14    。      。     。      記号-句点                \n",
      "15  EOS   None  None       None      None  None\n",
      "16        None  None       None      None  None\n"
     ]
    }
   ],
   "source": [
    "text = \"死ぬ間際にあがく。美しい月が見えた気がした。\"\n",
    "\n",
    "tagger = MeCab.Tagger(\"-Ochasen\")\n",
    "result = tagger.parse(text)\n",
    "words = result.split('\\n')\n",
    "df = pd.DataFrame(words)\n",
    "df = df[0].str.split('\\t', expand=True)\n",
    "print(df)"
   ]
  },
  {
   "cell_type": "code",
   "execution_count": 7,
   "metadata": {},
   "outputs": [],
   "source": [
    "df_d = df[df[3].str.contains(\"動詞\",na=False)]\n",
    "df_d = df_d.drop(columns=[0,1,3,4,5])\n",
    "df_d.columns = ['name']\n",
    "df_d['score'] = df_d['name'].isin(df_yougen['name']).astype(int)"
   ]
  },
  {
   "cell_type": "code",
   "execution_count": 8,
   "metadata": {},
   "outputs": [
    {
     "name": "stdout",
     "output_type": "stream",
     "text": [
      "   name  score\n",
      "0    死ぬ      1\n",
      "3   あがく      1\n",
      "8   見える      0\n",
      "9     た      0\n",
      "12   する      0\n",
      "13    た      0\n"
     ]
    }
   ],
   "source": [
    "print(df_d)"
   ]
  },
  {
   "cell_type": "code",
   "execution_count": 9,
   "metadata": {},
   "outputs": [
    {
     "name": "stdout",
     "output_type": "stream",
     "text": [
      "  name  score\n",
      "5  美しい      1\n"
     ]
    }
   ],
   "source": [
    "df_k=df[df[3].str.contains(\"形容詞\",na=False)]\n",
    "df_k = df_k.drop(columns=[0,1,3,4,5])\n",
    "df_k.columns = ['name']\n",
    "df_k['score'] = df_k['name'].isin(df_yougen['name']).astype(int)\n",
    "print(df_k)"
   ]
  },
  {
   "cell_type": "code",
   "execution_count": 10,
   "metadata": {},
   "outputs": [
    {
     "name": "stdout",
     "output_type": "stream",
     "text": [
      "   name  score\n",
      "1    間際      0\n",
      "6     月      0\n",
      "10    気      1\n"
     ]
    }
   ],
   "source": [
    "df_name=df[df[3].str.contains(\"名詞\",na=False)]\n",
    "df_name = df_name.drop(columns=[1,2,3,4,5])\n",
    "df_name.columns = ['name']\n",
    "df_name['score'] = df_name['name'].isin(df_meishi['name']).astype(int)\n",
    "print(df_name)"
   ]
  },
  {
   "cell_type": "code",
   "execution_count": 11,
   "metadata": {},
   "outputs": [
    {
     "name": "stdout",
     "output_type": "stream",
     "text": [
      "     name  score\n",
      "3888    気    NaN\n"
     ]
    }
   ],
   "source": [
    "df_nameresult=df_meishi[df_meishi['name'].isin(df_name['name'])]\n",
    "df_nameresult=df_nameresult.drop (columns = [\"number\",\"ネガポジ\",\"形態\"])\n",
    "print(df_nameresult)"
   ]
  },
  {
   "cell_type": "code",
   "execution_count": 12,
   "metadata": {},
   "outputs": [
    {
     "name": "stdout",
     "output_type": "stream",
     "text": [
      "0.0\n"
     ]
    }
   ],
   "source": [
    "pn=df_nameresult['score'].sum()\n",
    "print(pn)"
   ]
  },
  {
   "cell_type": "code",
   "execution_count": 13,
   "metadata": {},
   "outputs": [
    {
     "name": "stdout",
     "output_type": "stream",
     "text": [
      "    name  score\n",
      "0    あがく   -1.0\n",
      "223   死ぬ   -1.0\n"
     ]
    }
   ],
   "source": [
    "df_dresult = df_yougen[df_yougen['name'].isin(df_d['name'])]\n",
    "df_dresult = df_dresult.drop (columns = [\"number\",\"ネガポジ\"])\n",
    "print(df_dresult)"
   ]
  },
  {
   "cell_type": "code",
   "execution_count": 14,
   "metadata": {},
   "outputs": [
    {
     "name": "stdout",
     "output_type": "stream",
     "text": [
      "-2.0\n"
     ]
    }
   ],
   "source": [
    "pd = df_dresult['score'].sum()\n",
    "print(pd)"
   ]
  },
  {
   "cell_type": "code",
   "execution_count": 15,
   "metadata": {},
   "outputs": [
    {
     "name": "stdout",
     "output_type": "stream",
     "text": [
      "     name  score\n",
      "4837  美しい    1.0\n"
     ]
    }
   ],
   "source": [
    "df_kresult = df_yougen[df_yougen['name'].isin(df_k['name'])]\n",
    "df_kresult = df_kresult.drop (columns = [\"number\",\"ネガポジ\"])\n",
    "print(df_kresult)"
   ]
  },
  {
   "cell_type": "code",
   "execution_count": 16,
   "metadata": {},
   "outputs": [
    {
     "name": "stdout",
     "output_type": "stream",
     "text": [
      "1.0\n"
     ]
    }
   ],
   "source": [
    "pk = df_kresult['score'].sum()\n",
    "print(pk)"
   ]
  },
  {
   "cell_type": "code",
   "execution_count": 17,
   "metadata": {},
   "outputs": [
    {
     "name": "stdout",
     "output_type": "stream",
     "text": [
      "-1.0\n"
     ]
    }
   ],
   "source": [
    "total = pn + pd + pk\n",
    "print(total)"
   ]
  },
  {
   "cell_type": "code",
   "execution_count": null,
   "metadata": {},
   "outputs": [],
   "source": []
  }
 ],
 "metadata": {
  "kernelspec": {
   "display_name": "Python 3",
   "language": "python",
   "name": "python3"
  },
  "language_info": {
   "codemirror_mode": {
    "name": "ipython",
    "version": 3
   },
   "file_extension": ".py",
   "mimetype": "text/x-python",
   "name": "python",
   "nbconvert_exporter": "python",
   "pygments_lexer": "ipython3",
   "version": "3.7.0"
  }
 },
 "nbformat": 4,
 "nbformat_minor": 2
}
